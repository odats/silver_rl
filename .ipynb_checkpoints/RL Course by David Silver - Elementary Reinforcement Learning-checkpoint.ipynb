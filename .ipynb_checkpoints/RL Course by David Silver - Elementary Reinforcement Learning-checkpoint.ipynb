{
 "cells": [
  {
   "cell_type": "markdown",
   "metadata": {},
   "source": [
    "## Code for the discussed methods\n",
    "- Q-learning"
   ]
  },
  {
   "cell_type": "code",
   "execution_count": 6,
   "metadata": {},
   "outputs": [],
   "source": [
    "import numpy as np\n",
    "import gym\n",
    "from tqdm import tqdm\n",
    "import pickle\n",
    "import random"
   ]
  },
  {
   "cell_type": "markdown",
   "metadata": {},
   "source": [
    "### Monte-Carlo"
   ]
  },
  {
   "cell_type": "code",
   "execution_count": 458,
   "metadata": {},
   "outputs": [
    {
     "name": "stdout",
     "output_type": "stream",
     "text": [
      "\n",
      "\u001b[41mS\u001b[0mFFF\n",
      "FHFH\n",
      "FFFH\n",
      "HFFG\n"
     ]
    }
   ],
   "source": [
    "env = gym.make('FrozenLake-v0')\n",
    "s0 = env.reset()\n",
    "env.render()\n",
    "# when you make action there is 33% chance to get to another space\n",
    "# LEFT = 0\n",
    "# DOWN = 1\n",
    "# RIGHT = 2\n",
    "# UP = 3"
   ]
  },
  {
   "cell_type": "code",
   "execution_count": 481,
   "metadata": {},
   "outputs": [],
   "source": [
    "def e_greedy_policy(q_table, state, k, env):\n",
    "    #epsilon = 0.25\n",
    "    epsilon = 1 - (k/number_of_runs)\n",
    "    actions_count = 4\n",
    "    act_greedy = epsilon / actions_count + (1 - epsilon)\n",
    "    \n",
    "    if random.random() < act_greedy:\n",
    "        #action = np.argmax(q_table, axis=1)[state]\n",
    "        action = np.argmax(q_table[state,:])\n",
    "    else:\n",
    "        action = env.action_space.sample()\n",
    "        \n",
    "    return action\n",
    "\n",
    "def random_policy(q_table, state, k, env):\n",
    "    action = env.action_space.sample()\n",
    "    return action"
   ]
  },
  {
   "cell_type": "code",
   "execution_count": 482,
   "metadata": {
    "scrolled": true
   },
   "outputs": [
    {
     "name": "stderr",
     "output_type": "stream",
     "text": [
      "100%|██████████| 499999/499999 [03:51<00:00, 2163.69it/s]"
     ]
    },
    {
     "name": "stdout",
     "output_type": "stream",
     "text": [
      "[[ 0.01912831  0.01900609  0.03127145  0.0165129 ]\n",
      " [ 0.01131586  0.01434847  0.01430176  0.03078556]\n",
      " [ 0.03376533  0.02988437  0.0472168   0.02160852]\n",
      " [ 0.01627504  0.01628172  0.01224514  0.03413411]\n",
      " [ 0.05052374  0.02606989  0.02355589  0.01501696]\n",
      " [ 0.          0.          0.          0.        ]\n",
      " [ 0.06266032  0.05752023  0.0867498   0.00945425]\n",
      " [ 0.          0.          0.          0.        ]\n",
      " [ 0.02872332  0.0589658   0.0496395   0.09559358]\n",
      " [ 0.09336099  0.19159675  0.13293607  0.07961649]\n",
      " [ 0.25298258  0.19513721  0.17543217  0.06139894]\n",
      " [ 0.          0.          0.          0.        ]\n",
      " [ 0.          0.          0.          0.        ]\n",
      " [ 0.11913297  0.23435362  0.32291929  0.20524183]\n",
      " [ 0.2953826   0.60206351  0.54978222  0.47104797]\n",
      " [ 0.          0.          0.          0.        ]]\n",
      "[[ 0.02773739  0.0261902   0.04322927  0.03052878]\n",
      " [ 0.04347665  0.          0.0777289   0.        ]\n",
      " [ 0.08478776  0.17437543  0.2315002   0.        ]\n",
      " [ 0.          0.29921461  0.57383231  0.        ]]\n"
     ]
    },
    {
     "name": "stderr",
     "output_type": "stream",
     "text": [
      "\n"
     ]
    }
   ],
   "source": [
    "state_values = np.zeros(env.observation_space.n)\n",
    "n_of_s = np.zeros(env.observation_space.n)\n",
    "\n",
    "q_table = np.zeros((env.observation_space.n, env.action_space.n))\n",
    "#q_table = np.random.random((env.observation_space.n, env.action_space.n))\n",
    "q_table_n = np.zeros((env.observation_space.n, env.action_space.n))\n",
    "\n",
    "number_of_runs = 500000\n",
    "number_of_won = 0\n",
    "for k in tqdm(range(1, number_of_runs)):\n",
    "    trajectory_states = []\n",
    "    trajectory_actions = []\n",
    "    trajectory_rewards = []\n",
    "    trajectory_total_discounted_rewards = []\n",
    "    \n",
    "    current_state = env.reset()\n",
    "    done = False\n",
    "    won = False\n",
    "    while not done: \n",
    "        action = e_greedy_policy(q_table, current_state, k, env)\n",
    "        new_state, reward, done, prob = env.step(action)\n",
    "        \n",
    "        # if done and reward == 0:\n",
    "        #    reward = -0.01\n",
    "        \n",
    "        trajectory_states.append(current_state)\n",
    "        trajectory_actions.append(action)\n",
    "        trajectory_rewards.append(reward)\n",
    "        \n",
    "        current_state = new_state\n",
    "        if done:\n",
    "            #env.render()\n",
    "            if reward == 1:\n",
    "                won = True\n",
    "                \n",
    "    for idx_state, state in enumerate(trajectory_states):\n",
    "        total_discounted_reward = 0\n",
    "        gama = 0.9\n",
    "        for idx_reward, reward in enumerate(trajectory_rewards[idx_state:]):\n",
    "            total_discounted_reward += reward * (gama**idx_reward)\n",
    "        trajectory_total_discounted_rewards.append(total_discounted_reward)\n",
    "\n",
    "    # fill action states values\n",
    "    for step in range(len(trajectory_states)):\n",
    "        step_state = trajectory_states[step]\n",
    "        step_action = trajectory_actions[step]\n",
    "        q_table_n[step_state][step_action] += 1\n",
    "        n = q_table_n[step_state][step_action]\n",
    "\n",
    "        current_value = q_table[step_state][step_action]\n",
    "        new_value = current_value + (1/n) * (trajectory_total_discounted_rewards[step] - current_value)\n",
    "        q_table[step_state][step_action] = new_value\n",
    "\n",
    "    # fill states values\n",
    "    for step, state in enumerate(trajectory_states):\n",
    "        n_of_s[state] += 1 \n",
    "        state_values[state] = state_values[state] + (1/n_of_s[state]) * (trajectory_total_discounted_rewards[step]-state_values[state])\n",
    "\n",
    "        \n",
    "    if won:\n",
    "#         print(trajectory_states)\n",
    "#         print(trajectory_actions)\n",
    "#         print(trajectory_total_discounted_rewards)\n",
    "#         print(q_table)\n",
    "        number_of_won += 1\n",
    "        \n",
    "\n",
    "if number_of_runs >= 100000:\n",
    "    with open(str(number_of_runs) + '_data.pickle', 'wb') as f:\n",
    "        # Pickle the 'data' dictionary using the highest protocol available.\n",
    "        pickle.dump(q_table, f, pickle.HIGHEST_PROTOCOL)\n",
    "\n",
    "    with open(str(number_of_runs) + '_data.pickle', 'rb') as f:\n",
    "        # The protocol version used is detected automatically, so we do not\n",
    "        # have to specify it.\n",
    "        data = pickle.load(f)\n",
    "        print(data)\n",
    "        \n",
    "print(state_values.reshape(4,4))"
   ]
  },
  {
   "cell_type": "code",
   "execution_count": 483,
   "metadata": {},
   "outputs": [
    {
     "name": "stdout",
     "output_type": "stream",
     "text": [
      "[[ 0.01974229  0.0196585   0.03314476  0.01704977]\n",
      " [ 0.01214663  0.01553219  0.01515419  0.03388546]\n",
      " [ 0.04792205  0.02997437  0.03341454  0.02131726]\n",
      " [ 0.01267618  0.01296505  0.00938177  0.02451729]\n",
      " [ 0.05256573  0.02680446  0.02400845  0.0153596 ]\n",
      " [ 0.          0.          0.          0.        ]\n",
      " [ 0.06680237  0.05786854  0.08570719  0.00998287]\n",
      " [ 0.          0.          0.          0.        ]\n",
      " [ 0.02824354  0.05969482  0.05020118  0.09804874]\n",
      " [ 0.09554899  0.1938697   0.13584967  0.07901364]\n",
      " [ 0.25317315  0.19714549  0.17709023  0.06158631]\n",
      " [ 0.          0.          0.          0.        ]\n",
      " [ 0.          0.          0.          0.        ]\n",
      " [ 0.12061309  0.23829929  0.32499963  0.20460184]\n",
      " [ 0.29593524  0.60246422  0.55042458  0.46922549]\n",
      " [ 0.          0.          0.          0.        ]]\n",
      "[[ 0.01912831  0.01900609  0.03127145  0.0165129 ]\n",
      " [ 0.01131586  0.01434847  0.01430176  0.03078556]\n",
      " [ 0.03376533  0.02988437  0.0472168   0.02160852]\n",
      " [ 0.01627504  0.01628172  0.01224514  0.03413411]\n",
      " [ 0.05052374  0.02606989  0.02355589  0.01501696]\n",
      " [ 0.          0.          0.          0.        ]\n",
      " [ 0.06266032  0.05752023  0.0867498   0.00945425]\n",
      " [ 0.          0.          0.          0.        ]\n",
      " [ 0.02872332  0.0589658   0.0496395   0.09559358]\n",
      " [ 0.09336099  0.19159675  0.13293607  0.07961649]\n",
      " [ 0.25298258  0.19513721  0.17543217  0.06139894]\n",
      " [ 0.          0.          0.          0.        ]\n",
      " [ 0.          0.          0.          0.        ]\n",
      " [ 0.11913297  0.23435362  0.32291929  0.20524183]\n",
      " [ 0.2953826   0.60206351  0.54978222  0.47104797]\n",
      " [ 0.          0.          0.          0.        ]]\n",
      "[[  163544.   162396.  1309617.   160574.]\n",
      " [   76174.    76254.    75850.   639288.]\n",
      " [   61818.    59492.   670265.    59838.]\n",
      " [   43827.    44514.    43405.   569293.]\n",
      " [  808809.    88559.    85645.    86161.]\n",
      " [       0.        0.        0.        0.]\n",
      " [   27674.    21729.   261941.    22070.]\n",
      " [       0.        0.        0.        0.]\n",
      " [   45517.    45452.    45595.   493080.]\n",
      " [   22175.   279814.    22161.    22203.]\n",
      " [  179071.    16072.    14946.    14253.]\n",
      " [       0.        0.        0.        0.]\n",
      " [       0.        0.        0.        0.]\n",
      " [   14963.    14982.   213544.    14852.]\n",
      " [   12666.   182002.    12588.    12731.]\n",
      " [       0.        0.        0.        0.]]\n",
      "won 69186\n",
      "Result 0.459\n"
     ]
    }
   ],
   "source": [
    "def get_super_q_table():\n",
    "    number_of_runs = 1000000\n",
    "    with open(str(number_of_runs) + '_data.pickle', 'rb') as f:\n",
    "        # The protocol version used is detected automatically, so we do not\n",
    "        # have to specify it.\n",
    "        data = pickle.load(f)\n",
    "        return data\n",
    "print(get_super_q_table())\n",
    "print(q_table)\n",
    "print(q_table_n)\n",
    "\n",
    "def get_action(q_table, s1):\n",
    "    action = np.argmax(q_table, axis=1)[s1]\n",
    "    #action = env.action_space.sample()\n",
    "    return action\n",
    "\n",
    "def evaluate_policy(env, q_table, max_episodes=1000): \n",
    "    tot_reward = 0\n",
    "    for ep in range(max_episodes):\n",
    "        state = env.reset()\n",
    "        done = False\n",
    "        ep_reward = 0\n",
    "        \n",
    "        # Reward per episode\n",
    "        while not done:\n",
    "            action = get_action(q_table, state)\n",
    "            new_state, reward, done, _ = env.step(action)\n",
    "            ep_reward += reward\n",
    "            state = new_state\n",
    "            if done:\n",
    "                tot_reward += ep_reward\n",
    "    return tot_reward / max_episodes\n",
    "\n",
    "print('won', number_of_won)\n",
    "print('Result', evaluate_policy(env, q_table, 1000))"
   ]
  },
  {
   "cell_type": "code",
   "execution_count": 2,
   "metadata": {},
   "outputs": [],
   "source": [
    "class RandomGuessPolicy(object):\n",
    "    def __init__(self, env):\n",
    "        self.env = env\n",
    "\n",
    "    def what_to_do(self, state):\n",
    "        action = self.env.action_space.sample()\n",
    "        return action"
   ]
  },
  {
   "cell_type": "code",
   "execution_count": 8,
   "metadata": {},
   "outputs": [
    {
     "name": "stdout",
     "output_type": "stream",
     "text": [
      "3\n",
      "3\n",
      "3\n",
      "1\n",
      "3\n"
     ]
    }
   ],
   "source": [
    "for n in range(5):\n",
    "    policy = RandomGuessPolicy(gym.make('FrozenLake-v0'))\n",
    "    print(policy.what_to_do(n))"
   ]
  },
  {
   "cell_type": "code",
   "execution_count": null,
   "metadata": {},
   "outputs": [],
   "source": []
  }
 ],
 "metadata": {
  "kernelspec": {
   "display_name": "Python 3",
   "language": "python",
   "name": "python3"
  },
  "language_info": {
   "codemirror_mode": {
    "name": "ipython",
    "version": 3
   },
   "file_extension": ".py",
   "mimetype": "text/x-python",
   "name": "python",
   "nbconvert_exporter": "python",
   "pygments_lexer": "ipython3",
   "version": "3.6.4"
  }
 },
 "nbformat": 4,
 "nbformat_minor": 2
}
