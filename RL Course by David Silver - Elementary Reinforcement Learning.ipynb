{
 "cells": [
  {
   "cell_type": "markdown",
   "metadata": {},
   "source": [
    "## Code for the discussed methods\n",
    "- Q-learning"
   ]
  },
  {
   "cell_type": "code",
   "execution_count": null,
   "metadata": {},
   "outputs": [],
   "source": [
    "import numpy as np\n",
    "import gym\n",
    "from tqdm import tqdm\n",
    "import pickle\n",
    "import random"
   ]
  },
  {
   "cell_type": "markdown",
   "metadata": {},
   "source": [
    "### Monte-Carlo"
   ]
  },
  {
   "cell_type": "code",
   "execution_count": null,
   "metadata": {},
   "outputs": [],
   "source": [
    "env = gym.make('FrozenLake-v0')\n",
    "s0 = env.reset()\n",
    "env.render()\n",
    "# when you make action there is 33% chance to get to another space\n",
    "# LEFT = 0\n",
    "# DOWN = 1\n",
    "# RIGHT = 2\n",
    "# UP = 3"
   ]
  },
  {
   "cell_type": "code",
   "execution_count": null,
   "metadata": {},
   "outputs": [],
   "source": [
    "def e_greedy_policy(q_table, state, k, env):\n",
    "    #epsilon = 0.25\n",
    "    epsilon = 1 - (k/number_of_runs)\n",
    "    actions_count = 4\n",
    "    act_greedy = epsilon / actions_count + (1 - epsilon)\n",
    "    \n",
    "    if random.random() < act_greedy:\n",
    "        #action = np.argmax(q_table, axis=1)[state]\n",
    "        action = np.argmax(q_table[state,:])\n",
    "    else:\n",
    "        action = env.action_space.sample()\n",
    "        \n",
    "    return action\n",
    "\n",
    "def random_policy(q_table, state, k, env):\n",
    "    action = env.action_space.sample()\n",
    "    return action"
   ]
  },
  {
   "cell_type": "code",
   "execution_count": null,
   "metadata": {
    "scrolled": true
   },
   "outputs": [],
   "source": [
    "state_values = np.zeros(env.observation_space.n)\n",
    "n_of_s = np.zeros(env.observation_space.n)\n",
    "\n",
    "q_table = np.zeros((env.observation_space.n, env.action_space.n))\n",
    "#q_table = np.random.random((env.observation_space.n, env.action_space.n))\n",
    "q_table_n = np.zeros((env.observation_space.n, env.action_space.n))\n",
    "\n",
    "number_of_runs = 500000\n",
    "number_of_won = 0\n",
    "for k in tqdm(range(1, number_of_runs)):\n",
    "    trajectory_states = []\n",
    "    trajectory_actions = []\n",
    "    trajectory_rewards = []\n",
    "    trajectory_total_discounted_rewards = []\n",
    "    \n",
    "    current_state = env.reset()\n",
    "    done = False\n",
    "    won = False\n",
    "    while not done: \n",
    "        action = e_greedy_policy(q_table, current_state, k, env)\n",
    "        new_state, reward, done, prob = env.step(action)\n",
    "        \n",
    "        trajectory_states.append(current_state)\n",
    "        trajectory_actions.append(action)\n",
    "        trajectory_rewards.append(reward)\n",
    "        \n",
    "        current_state = new_state\n",
    "        if done:\n",
    "            #env.render()\n",
    "            if reward == 1:\n",
    "                won = True\n",
    "                \n",
    "    for idx_state, state in enumerate(trajectory_states):\n",
    "        total_discounted_reward = 0\n",
    "        gama = 0.9\n",
    "        for idx_reward, reward in enumerate(trajectory_rewards[idx_state:]):\n",
    "            total_discounted_reward += reward * (gama**idx_reward)\n",
    "        trajectory_total_discounted_rewards.append(total_discounted_reward)\n",
    "\n",
    "    # fill action states values\n",
    "    for step in range(len(trajectory_states)):\n",
    "        step_state = trajectory_states[step]\n",
    "        step_action = trajectory_actions[step]\n",
    "        q_table_n[step_state][step_action] += 1\n",
    "        n = q_table_n[step_state][step_action]\n",
    "\n",
    "        current_value = q_table[step_state][step_action]\n",
    "        new_value = current_value + (1/n) * (trajectory_total_discounted_rewards[step] - current_value)\n",
    "        q_table[step_state][step_action] = new_value\n",
    "\n",
    "    # fill states values\n",
    "    for step, state in enumerate(trajectory_states):\n",
    "        n_of_s[state] += 1 \n",
    "        state_values[state] = state_values[state] + (1/n_of_s[state]) * (trajectory_total_discounted_rewards[step]-state_values[state])\n",
    "\n",
    "        \n",
    "    if won:\n",
    "#         print(trajectory_states)\n",
    "#         print(trajectory_actions)\n",
    "#         print(trajectory_total_discounted_rewards)\n",
    "#         print(q_table)\n",
    "        number_of_won += 1\n",
    "        \n",
    "\n",
    "if number_of_runs >= 100000:\n",
    "    with open(str(number_of_runs) + '_data.pickle', 'wb') as f:\n",
    "        # Pickle the 'data' dictionary using the highest protocol available.\n",
    "        pickle.dump(q_table, f, pickle.HIGHEST_PROTOCOL)\n",
    "\n",
    "    with open(str(number_of_runs) + '_data.pickle', 'rb') as f:\n",
    "        # The protocol version used is detected automatically, so we do not\n",
    "        # have to specify it.\n",
    "        data = pickle.load(f)\n",
    "        print(data)\n",
    "        \n",
    "print(state_values.reshape(4,4))"
   ]
  },
  {
   "cell_type": "code",
   "execution_count": null,
   "metadata": {},
   "outputs": [],
   "source": [
    "def get_super_q_table():\n",
    "    number_of_runs = 1000000\n",
    "    with open(str(number_of_runs) + '_data.pickle', 'rb') as f:\n",
    "        # The protocol version used is detected automatically, so we do not\n",
    "        # have to specify it.\n",
    "        data = pickle.load(f)\n",
    "        return data\n",
    "print(get_super_q_table())\n",
    "print(q_table)\n",
    "print(q_table_n)\n",
    "\n",
    "def get_action(q_table, s1):\n",
    "    action = np.argmax(q_table, axis=1)[s1]\n",
    "    #action = env.action_space.sample()\n",
    "    return action\n",
    "\n",
    "def evaluate_policy(env, q_table, max_episodes=1000): \n",
    "    tot_reward = 0\n",
    "    for ep in range(max_episodes):\n",
    "        state = env.reset()\n",
    "        done = False\n",
    "        ep_reward = 0\n",
    "        \n",
    "        # Reward per episode\n",
    "        while not done:\n",
    "            action = get_action(q_table, state)\n",
    "            new_state, reward, done, _ = env.step(action)\n",
    "            ep_reward += reward\n",
    "            state = new_state\n",
    "            if done:\n",
    "                tot_reward += ep_reward\n",
    "    return tot_reward / max_episodes\n",
    "\n",
    "print('won', number_of_won)\n",
    "print('Result', evaluate_policy(env, q_table, 1000))"
   ]
  },
  {
   "cell_type": "code",
   "execution_count": null,
   "metadata": {},
   "outputs": [],
   "source": [
    "class RandomGuessPolicy(object):\n",
    "    def __init__(self, env):\n",
    "        self.env = env\n",
    "\n",
    "    def what_to_do(self, state):\n",
    "        action = self.env.action_space.sample()\n",
    "        return action"
   ]
  },
  {
   "cell_type": "code",
   "execution_count": null,
   "metadata": {},
   "outputs": [],
   "source": [
    "for n in range(5):\n",
    "    policy = RandomGuessPolicy(gym.make('FrozenLake-v0'))\n",
    "    print(policy.what_to_do(n))\n",
    "    \n",
    "    # train\n",
    "    \n",
    "    # evaluate"
   ]
  },
  {
   "cell_type": "code",
   "execution_count": null,
   "metadata": {},
   "outputs": [],
   "source": []
  }
 ],
 "metadata": {
  "kernelspec": {
   "display_name": "Python 3",
   "language": "python",
   "name": "python3"
  },
  "language_info": {
   "codemirror_mode": {
    "name": "ipython",
    "version": 3
   },
   "file_extension": ".py",
   "mimetype": "text/x-python",
   "name": "python",
   "nbconvert_exporter": "python",
   "pygments_lexer": "ipython3",
   "version": "3.6.4"
  }
 },
 "nbformat": 4,
 "nbformat_minor": 2
}
