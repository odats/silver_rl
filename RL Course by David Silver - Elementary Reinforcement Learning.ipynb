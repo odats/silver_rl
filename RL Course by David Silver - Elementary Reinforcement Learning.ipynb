{
 "cells": [
  {
   "cell_type": "markdown",
   "metadata": {},
   "source": [
    "## Code for the discussed methods\n",
    "- Q-learning"
   ]
  },
  {
   "cell_type": "code",
   "execution_count": 1,
   "metadata": {},
   "outputs": [],
   "source": [
    "import numpy as np\n",
    "import gym\n",
    "from tqdm import tqdm\n",
    "from tqdm import tnrange, tqdm_notebook, trange\n",
    "from time import sleep\n",
    "import pickle\n",
    "import random\n",
    "import matplotlib.pyplot as plt"
   ]
  },
  {
   "cell_type": "markdown",
   "metadata": {},
   "source": [
    "### Monte-Carlo"
   ]
  },
  {
   "cell_type": "code",
   "execution_count": 2,
   "metadata": {},
   "outputs": [
    {
     "name": "stdout",
     "output_type": "stream",
     "text": [
      "\n",
      "\u001b[41mS\u001b[0mFFF\n",
      "FHFH\n",
      "FFFH\n",
      "HFFG\n"
     ]
    }
   ],
   "source": [
    "env = gym.make('FrozenLake-v0')\n",
    "s0 = env.reset()\n",
    "env.render()\n",
    "# when you make action there is 33% chance to get to another space\n",
    "# LEFT = 0\n",
    "# DOWN = 1\n",
    "# RIGHT = 2\n",
    "# UP = 3"
   ]
  },
  {
   "cell_type": "code",
   "execution_count": 3,
   "metadata": {},
   "outputs": [],
   "source": [
    "def e_greedy_policy(q_table, state, k, number_of_runs, env):\n",
    "    #epsilon = 0.25\n",
    "    epsilon = 1 - (k/number_of_runs)\n",
    "    actions_count = 4\n",
    "    act_greedy = epsilon / actions_count + (1 - epsilon)\n",
    "    \n",
    "    if random.random() < act_greedy:\n",
    "        #action = np.argmax(q_table, axis=1)[state]\n",
    "        action = np.argmax(q_table[state,:])\n",
    "    else:\n",
    "        action = env.action_space.sample()\n",
    "        \n",
    "    return action\n",
    "\n",
    "def random_policy(q_table, state, k, env):\n",
    "    action = env.action_space.sample()\n",
    "    return action"
   ]
  },
  {
   "cell_type": "code",
   "execution_count": 4,
   "metadata": {},
   "outputs": [],
   "source": [
    "# code examples\n",
    "\n",
    "def save_model(q_table, number_of_runs):\n",
    "    with open(str(number_of_runs) + '_data.pickle', 'wb') as f:\n",
    "        # Pickle the 'data' dictionary using the highest protocol available.\n",
    "        pickle.dump(q_table, f, pickle.HIGHEST_PROTOCOL)\n",
    "\n",
    "def restore_model(number_of_runs):\n",
    "    number_of_runs = 1000000\n",
    "    with open(str(number_of_runs) + '_data.pickle', 'rb') as f:\n",
    "        # The protocol version used is detected automatically, so we do not\n",
    "        # have to specify it.\n",
    "        q_table = pickle.load(f)\n",
    "        return q_table\n",
    "    \n",
    "class RandomGuessPolicy(object):\n",
    "    def __init__(self, env):\n",
    "        self.env = env\n",
    "\n",
    "    def what_to_do(self, state):\n",
    "        action = self.env.action_space.sample()\n",
    "        return action\n",
    "    \n",
    "# policy = RandomGuessPolicy(gym.make('FrozenLake-v0'))\n",
    "# print(policy.what_to_do(n))"
   ]
  },
  {
   "cell_type": "code",
   "execution_count": 5,
   "metadata": {},
   "outputs": [],
   "source": [
    "def evaluate_policy(env, q_table, max_episodes=1000): \n",
    "    tot_reward = 0\n",
    "    for ep in range(max_episodes):\n",
    "        state = env.reset()\n",
    "        done = False\n",
    "        ep_reward = 0\n",
    "        \n",
    "        # Reward per episode\n",
    "        while not done:\n",
    "            action = np.argmax(q_table[state,:])\n",
    "            #action = env.action_space.sample()\n",
    "            \n",
    "            new_state, reward, done, _ = env.step(action)\n",
    "            ep_reward += reward\n",
    "            state = new_state\n",
    "            if done:\n",
    "                tot_reward += ep_reward\n",
    "    return tot_reward / max_episodes"
   ]
  },
  {
   "cell_type": "code",
   "execution_count": 6,
   "metadata": {},
   "outputs": [],
   "source": [
    "def monte_carlo_train(env, number_of_runs=10000, gama=0.9):\n",
    "    state_values = np.zeros(env.observation_space.n)\n",
    "    n_of_s = np.zeros(env.observation_space.n)\n",
    "\n",
    "    q_table = np.zeros((env.observation_space.n, env.action_space.n))\n",
    "    #q_table = np.random.random((env.observation_space.n, env.action_space.n))\n",
    "    q_table_n = np.zeros((env.observation_space.n, env.action_space.n))\n",
    "\n",
    "    number_of_won = 0\n",
    "    for k in tqdm(range(1, number_of_runs)):\n",
    "        trajectory_states = []\n",
    "        trajectory_actions = []\n",
    "        trajectory_rewards = []\n",
    "        trajectory_total_discounted_rewards = []\n",
    "\n",
    "        current_state = env.reset()\n",
    "        done = False\n",
    "        won = False\n",
    "        while not done: \n",
    "            action = e_greedy_policy(q_table, current_state, k, number_of_runs, env)\n",
    "            new_state, reward, done, prob = env.step(action)\n",
    "\n",
    "            trajectory_states.append(current_state)\n",
    "            trajectory_actions.append(action)\n",
    "            trajectory_rewards.append(reward)\n",
    "\n",
    "            current_state = new_state\n",
    "            if done:\n",
    "                #env.render()\n",
    "                if reward == 1:\n",
    "                    won = True\n",
    "\n",
    "        for idx_state, state in enumerate(trajectory_states):\n",
    "            total_discounted_reward = 0\n",
    "            for idx_reward, reward in enumerate(trajectory_rewards[idx_state:]):\n",
    "                total_discounted_reward += reward * (gama**idx_reward)\n",
    "            trajectory_total_discounted_rewards.append(total_discounted_reward)\n",
    "\n",
    "        # fill action states values\n",
    "        for step in range(len(trajectory_states)):\n",
    "            step_state = trajectory_states[step]\n",
    "            step_action = trajectory_actions[step]\n",
    "            q_table_n[step_state][step_action] += 1\n",
    "            n = q_table_n[step_state][step_action]\n",
    "\n",
    "            current_value = q_table[step_state][step_action]\n",
    "            new_value = current_value + (1/n) * (trajectory_total_discounted_rewards[step] - current_value)\n",
    "            q_table[step_state][step_action] = new_value\n",
    "\n",
    "        # fill states values\n",
    "        for step, state in enumerate(trajectory_states):\n",
    "            n_of_s[state] += 1 \n",
    "            state_values[state] = state_values[state] + (1/n_of_s[state]) * (trajectory_total_discounted_rewards[step]-state_values[state])\n",
    "\n",
    "\n",
    "        if won:\n",
    "    #         print(trajectory_states)\n",
    "    #         print(trajectory_actions)\n",
    "    #         print(trajectory_total_discounted_rewards)\n",
    "    #         print(q_table)\n",
    "            number_of_won += 1\n",
    "        \n",
    "    return q_table\n",
    "    "
   ]
  },
  {
   "cell_type": "code",
   "execution_count": 13,
   "metadata": {},
   "outputs": [
    {
     "name": "stderr",
     "output_type": "stream",
     "text": [
      "100%|██████████| 9999/9999 [00:03<00:00, 3113.85it/s]\n",
      "100%|██████████| 9999/9999 [00:02<00:00, 3753.00it/s]\n",
      "100%|██████████| 9999/9999 [00:03<00:00, 2553.20it/s]\n",
      "100%|██████████| 9999/9999 [00:03<00:00, 3114.58it/s]\n",
      "100%|██████████| 9999/9999 [00:02<00:00, 3817.68it/s]\n",
      "100%|██████████| 9999/9999 [00:03<00:00, 2864.14it/s]\n",
      "100%|██████████| 9999/9999 [00:04<00:00, 2241.75it/s]\n",
      "100%|██████████| 9999/9999 [00:03<00:00, 3210.73it/s]\n",
      "100%|██████████| 9999/9999 [00:03<00:00, 2832.12it/s]\n",
      "100%|██████████| 9999/9999 [00:03<00:00, 2901.78it/s]\n",
      "100%|██████████| 9999/9999 [00:02<00:00, 3980.84it/s]\n",
      "100%|██████████| 9999/9999 [00:02<00:00, 3682.82it/s]\n",
      "100%|██████████| 9999/9999 [00:03<00:00, 2796.86it/s]\n",
      "100%|██████████| 9999/9999 [00:04<00:00, 2350.20it/s]\n",
      "100%|██████████| 9999/9999 [00:03<00:00, 2915.20it/s]\n",
      "100%|██████████| 9999/9999 [00:03<00:00, 3127.40it/s]\n",
      "100%|██████████| 9999/9999 [00:03<00:00, 2880.86it/s]\n",
      "100%|██████████| 9999/9999 [00:03<00:00, 3295.80it/s]\n",
      "100%|██████████| 9999/9999 [00:03<00:00, 2955.25it/s]\n",
      "100%|██████████| 9999/9999 [00:03<00:00, 3135.04it/s]\n",
      "100%|██████████| 9999/9999 [00:02<00:00, 3697.85it/s]\n",
      "100%|██████████| 9999/9999 [00:04<00:00, 2047.28it/s]\n",
      "100%|██████████| 9999/9999 [00:04<00:00, 2209.70it/s]\n",
      "100%|██████████| 9999/9999 [00:04<00:00, 2148.50it/s]\n",
      "100%|██████████| 9999/9999 [00:04<00:00, 2207.22it/s]\n",
      "100%|██████████| 9999/9999 [00:04<00:00, 2373.91it/s]\n",
      "100%|██████████| 9999/9999 [00:03<00:00, 2705.35it/s]\n",
      "100%|██████████| 9999/9999 [00:04<00:00, 2303.31it/s]\n",
      "100%|██████████| 9999/9999 [00:04<00:00, 2125.22it/s]\n",
      "100%|██████████| 9999/9999 [00:04<00:00, 2247.03it/s]\n",
      "100%|██████████| 9999/9999 [00:04<00:00, 2444.90it/s]\n",
      "100%|██████████| 9999/9999 [00:03<00:00, 3122.52it/s]\n",
      "100%|██████████| 9999/9999 [00:04<00:00, 2385.29it/s]\n",
      "100%|██████████| 9999/9999 [00:03<00:00, 2586.63it/s]\n",
      "100%|██████████| 9999/9999 [00:04<00:00, 2427.84it/s]\n",
      "100%|██████████| 9999/9999 [00:03<00:00, 2669.50it/s]\n",
      "100%|██████████| 9999/9999 [00:04<00:00, 2397.02it/s]\n",
      "100%|██████████| 9999/9999 [00:02<00:00, 4089.29it/s]\n",
      "100%|██████████| 9999/9999 [00:02<00:00, 3926.53it/s]\n",
      "100%|██████████| 9999/9999 [00:04<00:00, 2294.95it/s]\n",
      "100%|██████████| 9999/9999 [00:03<00:00, 3060.71it/s]\n",
      "100%|██████████| 9999/9999 [00:02<00:00, 4063.73it/s]\n",
      "100%|██████████| 9999/9999 [00:04<00:00, 2284.23it/s]\n",
      "100%|██████████| 9999/9999 [00:03<00:00, 2918.22it/s]\n",
      "100%|██████████| 9999/9999 [00:02<00:00, 4362.94it/s]\n",
      "100%|██████████| 9999/9999 [00:04<00:00, 2362.27it/s]\n",
      "100%|██████████| 9999/9999 [00:02<00:00, 3893.16it/s]\n",
      "100%|██████████| 9999/9999 [00:02<00:00, 4053.26it/s]\n",
      "100%|██████████| 9999/9999 [00:03<00:00, 2706.84it/s]\n",
      "100%|██████████| 9999/9999 [00:02<00:00, 3973.87it/s]\n"
     ]
    }
   ],
   "source": [
    "x =[]\n",
    "y = []\n",
    "number_of_try = 50\n",
    "number_of_runs = 10000\n",
    "q_tables = []\n",
    "for i in range(number_of_try):\n",
    "    # train\n",
    "    q_table = monte_carlo_train(env, number_of_runs=number_of_runs, gama=0.9)\n",
    "    sleep(0.1)\n",
    "    # evaluate\n",
    "    result = evaluate_policy(env, q_table, 1000)\n",
    "    \n",
    "    # data for charts\n",
    "    x.append(i)\n",
    "    y.append(result)\n",
    "    q_tables.append(q_table)\n",
    "    \n"
   ]
  },
  {
   "cell_type": "code",
   "execution_count": 14,
   "metadata": {},
   "outputs": [
    {
     "data": {
      "image/png": "[encoded data removed]",
      "text/plain": [
       "<matplotlib.figure.Figure at 0x1075a0828>"
      ]
     },
     "metadata": {},
     "output_type": "display_data"
    },
    {
     "name": "stdout",
     "output_type": "stream",
     "text": [
      "Mean 0.30868\n"
     ]
    }
   ],
   "source": [
    "# Note that using plt.subplots below is equivalent to using\n",
    "# fig = plt.figure and then ax = fig.add_subplot(111)\n",
    "fig, ax = plt.subplots()\n",
    "ax.plot(x, y)\n",
    "\n",
    "ax.set(xlabel='try', ylabel='results',\n",
    "       title='AVG return from Policy')\n",
    "ax.grid()\n",
    "\n",
    "fig.savefig(str(number_of_runs) + '_' + str(number_of_try) + '_plot.png')\n",
    "plt.show()\n",
    "\n",
    "print('Mean', np.mean(y))"
   ]
  },
  {
   "cell_type": "code",
   "execution_count": 15,
   "metadata": {},
   "outputs": [
    {
     "name": "stdout",
     "output_type": "stream",
     "text": [
      "[[ 0.26  0.22  0.52  0.  ]\n",
      " [ 0.    0.16  0.06  0.78]\n",
      " [ 0.58  0.12  0.3   0.  ]\n",
      " [ 0.26  0.22  0.    0.52]\n",
      " [ 0.76  0.14  0.1   0.  ]\n",
      " [ 1.    0.    0.    0.  ]\n",
      " [ 0.4   0.16  0.44  0.  ]\n",
      " [ 1.    0.    0.    0.  ]\n",
      " [ 0.    0.22  0.04  0.74]\n",
      " [ 0.    0.72  0.28  0.  ]\n",
      " [ 0.86  0.12  0.02  0.  ]\n",
      " [ 1.    0.    0.    0.  ]\n",
      " [ 1.    0.    0.    0.  ]\n",
      " [ 0.    0.14  0.84  0.02]\n",
      " [ 0.    0.68  0.32  0.  ]\n",
      " [ 1.    0.    0.    0.  ]]\n"
     ]
    }
   ],
   "source": [
    "def get_clean_q_table(q_table):\n",
    "    clean = np.zeros(q_table.shape)\n",
    "    for state in range(q_table.shape[0]):\n",
    "        max_action = np.argmax(q_table[state,:])\n",
    "        clean[state][max_action] = 1\n",
    "    return clean\n",
    "\n",
    "clean_q_table = [] \n",
    "total_sum = np.zeros((16,4))\n",
    "for q_table in q_tables:\n",
    "    clean_table = get_clean_q_table(q_table)\n",
    "    clean_q_table.append(clean_table)\n",
    "    total_sum = np.add(total_sum, clean_table)\n",
    "    \n",
    "    \n",
    "# fig = plt.figure()\n",
    "# ax = fig.add_subplot(111, projection='3d')\n",
    "# for n in range(number_of_try):\n",
    "#     xs = np.arange(16*4)\n",
    "#     ys = clean_q_table[n].flatten()\n",
    "#     ax.bar(xs, ys, zs=n, zdir='y')\n",
    "# ax.set_xlabel('state-action')\n",
    "# ax.set_ylabel('tries')\n",
    "# ax.set_zlabel('value: 0 or 1')\n",
    "# plt.show()\n",
    "\n",
    "print(total_sum/number_of_try)\n"
   ]
  },
  {
   "cell_type": "code",
   "execution_count": null,
   "metadata": {},
   "outputs": [],
   "source": []
  }
 ],
 "metadata": {
  "kernelspec": {
   "display_name": "Python 3",
   "language": "python",
   "name": "python3"
  },
  "language_info": {
   "codemirror_mode": {
    "name": "ipython",
    "version": 3
   },
   "file_extension": ".py",
   "mimetype": "text/x-python",
   "name": "python",
   "nbconvert_exporter": "python",
   "pygments_lexer": "ipython3",
   "version": "3.6.4"
  }
 },
 "nbformat": 4,
 "nbformat_minor": 2
}
